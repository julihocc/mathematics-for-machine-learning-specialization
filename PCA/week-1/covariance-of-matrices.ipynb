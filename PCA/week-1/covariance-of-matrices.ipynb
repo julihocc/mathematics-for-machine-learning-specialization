{
 "cells": [
  {
   "cell_type": "code",
   "execution_count": 1,
   "metadata": {},
   "outputs": [],
   "source": [
    "import numpy as np"
   ]
  },
  {
   "cell_type": "code",
   "execution_count": 6,
   "metadata": {},
   "outputs": [
    {
     "name": "stdout",
     "output_type": "stream",
     "text": [
      "[0 4 0 4]\n",
      "[0 4 4 0]\n"
     ]
    },
    {
     "data": {
      "text/plain": [
       "array([[4., 0.],\n",
       "       [0., 4.]])"
      ]
     },
     "execution_count": 6,
     "metadata": {},
     "output_type": "execute_result"
    }
   ],
   "source": [
    "data = np.array([[0,0],[4,4],[0,4],[4,0]])\n",
    "x = data[:,0]; print(x)\n",
    "y = data[:,1]; print(y)\n",
    "np.cov(x,y, bias=True)"
   ]
  },
  {
   "cell_type": "code",
   "execution_count": 7,
   "metadata": {},
   "outputs": [
    {
     "name": "stdout",
     "output_type": "stream",
     "text": [
      "[1 5]\n",
      "[2 4]\n"
     ]
    },
    {
     "data": {
      "text/plain": [
       "array([[4., 2.],\n",
       "       [2., 1.]])"
      ]
     },
     "execution_count": 7,
     "metadata": {},
     "output_type": "execute_result"
    }
   ],
   "source": [
    "data = np.array([[1,2], [5,4]])\n",
    "x = data[:,0]; print(x)\n",
    "y = data[:,1]; print(y)\n",
    "np.cov(x,y, bias=True)"
   ]
  },
  {
   "cell_type": "code",
   "execution_count": 9,
   "metadata": {},
   "outputs": [
    {
     "name": "stdout",
     "output_type": "stream",
     "text": [
      "[1 7]\n",
      "[2 4]\n"
     ]
    },
    {
     "data": {
      "text/plain": [
       "array([[9., 3.],\n",
       "       [3., 1.]])"
      ]
     },
     "execution_count": 9,
     "metadata": {},
     "output_type": "execute_result"
    }
   ],
   "source": [
    "data = np.array([[1,2], [7,4]])\n",
    "x = data[:,0]; print(x)\n",
    "y = data[:,1]; print(y)\n",
    "np.cov(x,y, bias=True)"
   ]
  },
  {
   "cell_type": "code",
   "execution_count": 11,
   "metadata": {},
   "outputs": [
    {
     "name": "stdout",
     "output_type": "stream",
     "text": [
      "[[3 4]\n",
      " [9 6]]\n",
      "[3 9]\n",
      "[4 6]\n"
     ]
    },
    {
     "data": {
      "text/plain": [
       "array([[9., 3.],\n",
       "       [3., 1.]])"
      ]
     },
     "execution_count": 11,
     "metadata": {},
     "output_type": "execute_result"
    }
   ],
   "source": [
    "# add vector [2,2] to each row\n",
    "data = np.array([[1,2], [7,4]]) + np.array([2,2]); print(data)\n",
    "x = data[:,0]; print(x)\n",
    "y = data[:,1]; print(y)\n",
    "np.cov(x,y, bias=True)"
   ]
  },
  {
   "cell_type": "code",
   "execution_count": null,
   "metadata": {},
   "outputs": [],
   "source": []
  }
 ],
 "metadata": {
  "kernelspec": {
   "display_name": ".venv",
   "language": "python",
   "name": "python3"
  },
  "language_info": {
   "codemirror_mode": {
    "name": "ipython",
    "version": 3
   },
   "file_extension": ".py",
   "mimetype": "text/x-python",
   "name": "python",
   "nbconvert_exporter": "python",
   "pygments_lexer": "ipython3",
   "version": "3.12.5"
  }
 },
 "nbformat": 4,
 "nbformat_minor": 2
}
